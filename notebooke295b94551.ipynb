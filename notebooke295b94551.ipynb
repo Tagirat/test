{
 "cells": [
  {
   "cell_type": "markdown",
   "id": "5060968c",
   "metadata": {
    "id": "50b31e57",
    "papermill": {
     "duration": 0.004772,
     "end_time": "2025-09-24T20:51:59.633016",
     "exception": false,
     "start_time": "2025-09-24T20:51:59.628244",
     "status": "completed"
    },
    "tags": []
   },
   "source": [
    "# Сверточная нейронная сеть"
   ]
  },
  {
   "cell_type": "code",
   "execution_count": null,
   "id": "d99d292f",
   "metadata": {
    "id": "h1TuUZBNDHsI",
    "papermill": {
     "duration": 0.004712,
     "end_time": "2025-09-24T20:51:59.642248",
     "exception": false,
     "start_time": "2025-09-24T20:51:59.637536",
     "status": "completed"
    },
    "tags": []
   },
   "outputs": [],
   "source": []
  },
  {
   "cell_type": "code",
   "execution_count": 1,
   "id": "800727ae",
   "metadata": {
    "execution": {
     "iopub.execute_input": "2025-09-24T20:51:59.651956Z",
     "iopub.status.busy": "2025-09-24T20:51:59.651093Z",
     "iopub.status.idle": "2025-09-24T20:52:11.802422Z",
     "shell.execute_reply": "2025-09-24T20:52:11.801494Z"
    },
    "id": "b24b5d07",
    "papermill": {
     "duration": 12.157753,
     "end_time": "2025-09-24T20:52:11.804044",
     "exception": false,
     "start_time": "2025-09-24T20:51:59.646291",
     "status": "completed"
    },
    "tags": []
   },
   "outputs": [],
   "source": [
    "import torch\n",
    "import torch.nn.functional as F\n",
    "import torchvision\n",
    "import os\n",
    "from torch import nn\n",
    "from tqdm import tqdm\n",
    "import matplotlib.pyplot as plt\n",
    "%matplotlib inline\n",
    "import numpy as np\n",
    "import cv2\n",
    "import sklearn\n",
    "import PIL\n",
    "import torch\n",
    "import torchvision\n",
    "from matplotlib import cm\n",
    "from tqdm import tqdm\n",
    "import warnings\n",
    "warnings.filterwarnings('ignore')"
   ]
  },
  {
   "cell_type": "code",
   "execution_count": 2,
   "id": "90efca61",
   "metadata": {
    "execution": {
     "iopub.execute_input": "2025-09-24T20:52:11.812978Z",
     "iopub.status.busy": "2025-09-24T20:52:11.812619Z",
     "iopub.status.idle": "2025-09-24T20:52:11.817333Z",
     "shell.execute_reply": "2025-09-24T20:52:11.816572Z"
    },
    "id": "209aed95",
    "papermill": {
     "duration": 0.010752,
     "end_time": "2025-09-24T20:52:11.818790",
     "exception": false,
     "start_time": "2025-09-24T20:52:11.808038",
     "status": "completed"
    },
    "tags": []
   },
   "outputs": [],
   "source": [
    "transform = torchvision.transforms.Compose(\n",
    "    [\n",
    "        torchvision.transforms.ToTensor(),\n",
    "        torchvision.transforms.Normalize((0.1307,), (0.3081,))\n",
    "    ]\n",
    ")"
   ]
  },
  {
   "cell_type": "code",
   "execution_count": 3,
   "id": "555daada",
   "metadata": {
    "execution": {
     "iopub.execute_input": "2025-09-24T20:52:11.827722Z",
     "iopub.status.busy": "2025-09-24T20:52:11.827416Z",
     "iopub.status.idle": "2025-09-24T20:52:11.831923Z",
     "shell.execute_reply": "2025-09-24T20:52:11.831241Z"
    },
    "id": "rF6ZO9SUDMmG",
    "papermill": {
     "duration": 0.010573,
     "end_time": "2025-09-24T20:52:11.833211",
     "exception": false,
     "start_time": "2025-09-24T20:52:11.822638",
     "status": "completed"
    },
    "tags": []
   },
   "outputs": [],
   "source": [
    "def seed_everything(seed):\n",
    "    os.environ['PYTHONHASHSEED'] = str(seed)\n",
    "    np.random.seed(seed)\n",
    "    torch.manual_seed(seed)\n",
    "    torch.backends.cudnn.deterministic = True\n",
    "    torch.backends.cudnn.benchmark = False\n"
   ]
  },
  {
   "cell_type": "code",
   "execution_count": 4,
   "id": "be917e64",
   "metadata": {
    "execution": {
     "iopub.execute_input": "2025-09-24T20:52:11.841935Z",
     "iopub.status.busy": "2025-09-24T20:52:11.841660Z",
     "iopub.status.idle": "2025-09-24T20:52:13.586335Z",
     "shell.execute_reply": "2025-09-24T20:52:13.585483Z"
    },
    "id": "c9d1ba46",
    "papermill": {
     "duration": 1.750685,
     "end_time": "2025-09-24T20:52:13.587867",
     "exception": false,
     "start_time": "2025-09-24T20:52:11.837182",
     "status": "completed"
    },
    "tags": []
   },
   "outputs": [
    {
     "name": "stderr",
     "output_type": "stream",
     "text": [
      "100%|██████████| 9.91M/9.91M [00:00<00:00, 58.8MB/s]\n",
      "100%|██████████| 28.9k/28.9k [00:00<00:00, 1.70MB/s]\n",
      "100%|██████████| 1.65M/1.65M [00:00<00:00, 14.5MB/s]\n",
      "100%|██████████| 4.54k/4.54k [00:00<00:00, 5.91MB/s]\n"
     ]
    }
   ],
   "source": [
    "seed_everything(42)\n",
    "\n",
    "mnist_train = torchvision.datasets.MNIST(\n",
    "    './mnist/',\n",
    "    train=True,\n",
    "    download=True,\n",
    "    transform=transform\n",
    ")\n",
    "\n",
    "mnist_val = torchvision.datasets.MNIST(\n",
    "    './mnist/',\n",
    "    train=False,\n",
    "    download=True,\n",
    "    transform=transform\n",
    ")\n",
    "\n",
    "train_dataloader = torch.utils.data.DataLoader(mnist_train, batch_size=64, shuffle=True)\n",
    "val_dataloader = torch.utils.data.DataLoader(mnist_val, batch_size=64, shuffle=True)"
   ]
  },
  {
   "cell_type": "code",
   "execution_count": 5,
   "id": "f437e625",
   "metadata": {
    "execution": {
     "iopub.execute_input": "2025-09-24T20:52:13.599545Z",
     "iopub.status.busy": "2025-09-24T20:52:13.598938Z",
     "iopub.status.idle": "2025-09-24T20:52:13.851312Z",
     "shell.execute_reply": "2025-09-24T20:52:13.850421Z"
    },
    "id": "6f0d04b0",
    "outputId": "261b5335-727b-4428-c525-890ab72dd134",
    "papermill": {
     "duration": 0.260129,
     "end_time": "2025-09-24T20:52:13.852800",
     "exception": false,
     "start_time": "2025-09-24T20:52:13.592671",
     "status": "completed"
    },
    "tags": []
   },
   "outputs": [
    {
     "data": {
      "text/plain": [
       "<matplotlib.image.AxesImage at 0x7c2bf5697010>"
      ]
     },
     "execution_count": 5,
     "metadata": {},
     "output_type": "execute_result"
    },
    {
     "data": {
      "image/png": "[encoded data removed]",
      "text/plain": [
       "<Figure size 640x480 with 1 Axes>"
      ]
     },
     "metadata": {},
     "output_type": "display_data"
    }
   ],
   "source": [
    "plt.imshow(mnist_train[0][0].squeeze(0).numpy().reshape([28, 28]))"
   ]
  },
  {
   "cell_type": "code",
   "execution_count": 6,
   "id": "517cc097",
   "metadata": {
    "execution": {
     "iopub.execute_input": "2025-09-24T20:52:13.864514Z",
     "iopub.status.busy": "2025-09-24T20:52:13.863747Z",
     "iopub.status.idle": "2025-09-24T20:52:13.872073Z",
     "shell.execute_reply": "2025-09-24T20:52:13.871366Z"
    },
    "id": "fdf9258b",
    "papermill": {
     "duration": 0.015574,
     "end_time": "2025-09-24T20:52:13.873527",
     "exception": false,
     "start_time": "2025-09-24T20:52:13.857953",
     "status": "completed"
    },
    "tags": []
   },
   "outputs": [],
   "source": [
    "model = nn.Sequential(\n",
    "    nn.Flatten(),\n",
    "    nn.Linear(28*28, 128),\n",
    "    nn.ReLU(),\n",
    "    nn.Linear(128, 10)\n",
    ")\n",
    "\n",
    "optimizer = torch.optim.SGD(model.parameters(), lr=0.01)"
   ]
  },
  {
   "cell_type": "code",
   "execution_count": 7,
   "id": "5e4ef53b",
   "metadata": {
    "execution": {
     "iopub.execute_input": "2025-09-24T20:52:13.884922Z",
     "iopub.status.busy": "2025-09-24T20:52:13.884100Z",
     "iopub.status.idle": "2025-09-24T20:52:13.890758Z",
     "shell.execute_reply": "2025-09-24T20:52:13.889882Z"
    },
    "id": "e7725af2",
    "papermill": {
     "duration": 0.013731,
     "end_time": "2025-09-24T20:52:13.892231",
     "exception": false,
     "start_time": "2025-09-24T20:52:13.878500",
     "status": "completed"
    },
    "tags": []
   },
   "outputs": [],
   "source": [
    "def train(model, optimizer, n_epochs=5):\n",
    "    for epoch in range(n_epochs):\n",
    "\n",
    "        # обучение\n",
    "        for x_train, y_train in tqdm(train_dataloader):\n",
    "            y_pred = model(x_train)\n",
    "            loss = F.cross_entropy(y_pred, y_train)\n",
    "            loss.backward()\n",
    "            optimizer.step()\n",
    "            optimizer.zero_grad()\n",
    "\n",
    "        # валидация\n",
    "        if epoch % 2 == 0:\n",
    "            val_loss = []\n",
    "            val_accuracy = []\n",
    "            with torch.no_grad():\n",
    "                for x_val, y_val in tqdm(val_dataloader):\n",
    "                    y_pred = model(x_val)\n",
    "                    loss = F.cross_entropy(y_pred, y_val)\n",
    "                    val_loss.append(loss.numpy())\n",
    "                    val_accuracy.extend((torch.argmax(y_pred, dim=-1) == y_val).numpy().tolist())\n",
    "\n",
    "            print(f'Epoch: {epoch}, loss: {np.mean(val_loss)}, accuracy: {np.mean(val_accuracy)}')"
   ]
  },
  {
   "cell_type": "code",
   "execution_count": 8,
   "id": "3fb1e514",
   "metadata": {
    "execution": {
     "iopub.execute_input": "2025-09-24T20:52:13.903448Z",
     "iopub.status.busy": "2025-09-24T20:52:13.903150Z",
     "iopub.status.idle": "2025-09-24T20:53:27.872841Z",
     "shell.execute_reply": "2025-09-24T20:53:27.871950Z"
    },
    "id": "98a33d80",
    "outputId": "80a77494-d1b5-4014-c0ff-ec95cae2c07e",
    "papermill": {
     "duration": 73.977081,
     "end_time": "2025-09-24T20:53:27.874261",
     "exception": false,
     "start_time": "2025-09-24T20:52:13.897180",
     "status": "completed"
    },
    "tags": []
   },
   "outputs": [
    {
     "name": "stderr",
     "output_type": "stream",
     "text": [
      "100%|██████████| 938/938 [00:13<00:00, 68.89it/s]\n",
      "100%|██████████| 157/157 [00:02<00:00, 73.41it/s]\n"
     ]
    },
    {
     "name": "stdout",
     "output_type": "stream",
     "text": [
      "Epoch: 0, loss: 0.3203020393848419, accuracy: 0.9099\n"
     ]
    },
    {
     "name": "stderr",
     "output_type": "stream",
     "text": [
      "100%|██████████| 938/938 [00:13<00:00, 69.64it/s]\n",
      "100%|██████████| 938/938 [00:13<00:00, 69.45it/s]\n",
      "100%|██████████| 157/157 [00:02<00:00, 74.60it/s]\n"
     ]
    },
    {
     "name": "stdout",
     "output_type": "stream",
     "text": [
      "Epoch: 2, loss: 0.23288460075855255, accuracy: 0.9315\n"
     ]
    },
    {
     "name": "stderr",
     "output_type": "stream",
     "text": [
      "100%|██████████| 938/938 [00:13<00:00, 69.71it/s]\n",
      "100%|██████████| 938/938 [00:13<00:00, 69.10it/s]\n",
      "100%|██████████| 157/157 [00:02<00:00, 75.82it/s]"
     ]
    },
    {
     "name": "stdout",
     "output_type": "stream",
     "text": [
      "Epoch: 4, loss: 0.18698137998580933, accuracy: 0.9462\n"
     ]
    },
    {
     "name": "stderr",
     "output_type": "stream",
     "text": [
      "\n"
     ]
    }
   ],
   "source": [
    "train(model, optimizer)"
   ]
  },
  {
   "cell_type": "code",
   "execution_count": 9,
   "id": "944024ef",
   "metadata": {
    "execution": {
     "iopub.execute_input": "2025-09-24T20:53:27.948857Z",
     "iopub.status.busy": "2025-09-24T20:53:27.948546Z",
     "iopub.status.idle": "2025-09-24T20:53:27.953709Z",
     "shell.execute_reply": "2025-09-24T20:53:27.953012Z"
    },
    "id": "sr0-zS4bDBh9",
    "outputId": "1f067ff6-ddce-4b3f-8981-fe032eb52724",
    "papermill": {
     "duration": 0.043773,
     "end_time": "2025-09-24T20:53:27.955020",
     "exception": false,
     "start_time": "2025-09-24T20:53:27.911247",
     "status": "completed"
    },
    "tags": []
   },
   "outputs": [
    {
     "data": {
      "text/plain": [
       "0.9462"
      ]
     },
     "execution_count": 9,
     "metadata": {},
     "output_type": "execute_result"
    }
   ],
   "source": [
    "0.9462"
   ]
  },
  {
   "cell_type": "code",
   "execution_count": 10,
   "id": "2ae7356c",
   "metadata": {
    "execution": {
     "iopub.execute_input": "2025-09-24T20:53:28.090473Z",
     "iopub.status.busy": "2025-09-24T20:53:28.090139Z",
     "iopub.status.idle": "2025-09-24T20:53:28.096826Z",
     "shell.execute_reply": "2025-09-24T20:53:28.096123Z"
    },
    "id": "c82bb12b",
    "papermill": {
     "duration": 0.106634,
     "end_time": "2025-09-24T20:53:28.098197",
     "exception": false,
     "start_time": "2025-09-24T20:53:27.991563",
     "status": "completed"
    },
    "tags": []
   },
   "outputs": [],
   "source": [
    "model = nn.Sequential(\n",
    "    nn.Conv2d(in_channels=1, out_channels=10, kernel_size=5),  # grayscale\n",
    "    nn.ReLU(),\n",
    "    nn.MaxPool2d(kernel_size=4),   # сократим изображение в 4 раза по каждой из сторон\n",
    "    nn.Flatten(),\n",
    "    nn.Linear(6*6*10, 128),\n",
    "    nn.ReLU(),\n",
    "    nn.Linear(128, 10)\n",
    ")\n",
    "\n",
    "optimizer = torch.optim.SGD(model.parameters(), lr=0.01)"
   ]
  },
  {
   "cell_type": "code",
   "execution_count": 11,
   "id": "ddb4c853",
   "metadata": {
    "execution": {
     "iopub.execute_input": "2025-09-24T20:53:28.174469Z",
     "iopub.status.busy": "2025-09-24T20:53:28.173565Z",
     "iopub.status.idle": "2025-09-24T20:55:06.084728Z",
     "shell.execute_reply": "2025-09-24T20:55:06.083741Z"
    },
    "id": "e168b6cc",
    "outputId": "3b6e8a18-8698-4d7c-b533-115f0bce37b1",
    "papermill": {
     "duration": 97.951427,
     "end_time": "2025-09-24T20:55:06.086098",
     "exception": false,
     "start_time": "2025-09-24T20:53:28.134671",
     "status": "completed"
    },
    "tags": []
   },
   "outputs": [
    {
     "name": "stderr",
     "output_type": "stream",
     "text": [
      "100%|██████████| 938/938 [00:17<00:00, 52.17it/s]\n",
      "100%|██████████| 157/157 [00:02<00:00, 65.90it/s]\n"
     ]
    },
    {
     "name": "stdout",
     "output_type": "stream",
     "text": [
      "Epoch: 0, loss: 0.26599037647247314, accuracy: 0.925\n"
     ]
    },
    {
     "name": "stderr",
     "output_type": "stream",
     "text": [
      "100%|██████████| 938/938 [00:18<00:00, 51.93it/s]\n",
      "100%|██████████| 938/938 [00:18<00:00, 51.99it/s]\n",
      "100%|██████████| 157/157 [00:02<00:00, 66.00it/s]\n"
     ]
    },
    {
     "name": "stdout",
     "output_type": "stream",
     "text": [
      "Epoch: 2, loss: 0.12708856165409088, accuracy: 0.9624\n"
     ]
    },
    {
     "name": "stderr",
     "output_type": "stream",
     "text": [
      "100%|██████████| 938/938 [00:18<00:00, 51.22it/s]\n",
      "100%|██████████| 938/938 [00:18<00:00, 51.17it/s]\n",
      "100%|██████████| 157/157 [00:02<00:00, 65.61it/s]"
     ]
    },
    {
     "name": "stdout",
     "output_type": "stream",
     "text": [
      "Epoch: 4, loss: 0.0859842449426651, accuracy: 0.9748\n"
     ]
    },
    {
     "name": "stderr",
     "output_type": "stream",
     "text": [
      "\n"
     ]
    }
   ],
   "source": [
    "train(model, optimizer)"
   ]
  },
  {
   "cell_type": "code",
   "execution_count": 12,
   "id": "a2890236",
   "metadata": {
    "execution": {
     "iopub.execute_input": "2025-09-24T20:55:06.241898Z",
     "iopub.status.busy": "2025-09-24T20:55:06.240895Z",
     "iopub.status.idle": "2025-09-24T20:55:06.246444Z",
     "shell.execute_reply": "2025-09-24T20:55:06.245496Z"
    },
    "id": "3a277640",
    "outputId": "0081c706-51be-4181-9310-528a367c1fc1",
    "papermill": {
     "duration": 0.085639,
     "end_time": "2025-09-24T20:55:06.247782",
     "exception": false,
     "start_time": "2025-09-24T20:55:06.162143",
     "status": "completed"
    },
    "tags": []
   },
   "outputs": [
    {
     "data": {
      "text/plain": [
       "0.9747"
      ]
     },
     "execution_count": 12,
     "metadata": {},
     "output_type": "execute_result"
    }
   ],
   "source": [
    "0.9747"
   ]
  },
  {
   "cell_type": "markdown",
   "id": "eaf23fc2",
   "metadata": {
    "id": "a47a26f6",
    "papermill": {
     "duration": 0.077687,
     "end_time": "2025-09-24T20:55:06.401691",
     "exception": false,
     "start_time": "2025-09-24T20:55:06.324004",
     "status": "completed"
    },
    "tags": []
   },
   "source": [
    "# Домашнее задание"
   ]
  },
  {
   "cell_type": "markdown",
   "id": "dc1faa45",
   "metadata": {
    "id": "88da5598",
    "papermill": {
     "duration": 0.076426,
     "end_time": "2025-09-24T20:55:06.553862",
     "exception": false,
     "start_time": "2025-09-24T20:55:06.477436",
     "status": "completed"
    },
    "tags": []
   },
   "source": [
    "Обучите сверточную нейронную сеть на датасете MNIST, взяв любой другой оптимизатор (кроме SGD) и любую другую функцию ошибки (кроме cross-entropy loss). Попробуйте поварьировать параметры: кол-во ядер, `kernel_size` и побить текущий бейзлайн в `0.9747`. Выведите количество обучаемых параметров.    \n",
    "Какого качества удалось достичь? Попробуйте залоггировать Ваши результаты - построить графики того, как менялись метрики качества (accuracy, loss) с течением эпох, включить логгирование, сравнить результаты между собой при разных параметрах.\n",
    "\n",
    "Любые дополнительные улучшения (как по методам, так и по коду пайплайна) приветствуются!\n",
    "\n",
    "*Цель:* выработать навык обучения нейронных сетей (в частности сверточных) на основе средств PyTorch, начиная от загрузки датасетами и заканчивая выводами результатов, их логгированием, сравнением и анализом."
   ]
  },
  {
   "cell_type": "code",
   "execution_count": 13,
   "id": "5676f6cd",
   "metadata": {
    "execution": {
     "iopub.execute_input": "2025-09-24T20:55:06.708897Z",
     "iopub.status.busy": "2025-09-24T20:55:06.708602Z",
     "iopub.status.idle": "2025-09-24T20:55:06.712746Z",
     "shell.execute_reply": "2025-09-24T20:55:06.712074Z"
    },
    "id": "r718OzOzCRne",
    "papermill": {
     "duration": 0.083124,
     "end_time": "2025-09-24T20:55:06.714123",
     "exception": false,
     "start_time": "2025-09-24T20:55:06.630999",
     "status": "completed"
    },
    "tags": []
   },
   "outputs": [],
   "source": [
    "import torch\n",
    "import torch.nn.functional as F\n",
    "import torchvision\n",
    "import os\n",
    "from torch import nn\n",
    "from tqdm import tqdm"
   ]
  },
  {
   "cell_type": "code",
   "execution_count": 14,
   "id": "c2894c39",
   "metadata": {
    "execution": {
     "iopub.execute_input": "2025-09-24T20:55:06.869598Z",
     "iopub.status.busy": "2025-09-24T20:55:06.869296Z",
     "iopub.status.idle": "2025-09-24T20:55:06.873486Z",
     "shell.execute_reply": "2025-09-24T20:55:06.872787Z"
    },
    "papermill": {
     "duration": 0.084524,
     "end_time": "2025-09-24T20:55:06.874718",
     "exception": false,
     "start_time": "2025-09-24T20:55:06.790194",
     "status": "completed"
    },
    "tags": []
   },
   "outputs": [],
   "source": [
    "transform = torchvision.transforms.Compose(\n",
    "    [\n",
    "        torchvision.transforms.ToTensor(),\n",
    "        torchvision.transforms.Normalize((0.1307,), (0.3081,))\n",
    "    ]\n",
    ")"
   ]
  },
  {
   "cell_type": "code",
   "execution_count": 15,
   "id": "55490780",
   "metadata": {
    "execution": {
     "iopub.execute_input": "2025-09-24T20:55:07.028655Z",
     "iopub.status.busy": "2025-09-24T20:55:07.028370Z",
     "iopub.status.idle": "2025-09-24T20:55:07.033099Z",
     "shell.execute_reply": "2025-09-24T20:55:07.032300Z"
    },
    "papermill": {
     "duration": 0.083096,
     "end_time": "2025-09-24T20:55:07.034534",
     "exception": false,
     "start_time": "2025-09-24T20:55:06.951438",
     "status": "completed"
    },
    "tags": []
   },
   "outputs": [],
   "source": [
    "def seed_everything(seed):\n",
    "    os.environ['PYTHONHASHSEED'] = str(seed)\n",
    "    np.random.seed(seed)\n",
    "    torch.manual_seed(seed)\n",
    "    torch.backends.cudnn.deterministic = True\n",
    "    torch.backends.cudnn.benchmark = False\n"
   ]
  },
  {
   "cell_type": "code",
   "execution_count": 16,
   "id": "5f1cb67e",
   "metadata": {
    "execution": {
     "iopub.execute_input": "2025-09-24T20:55:07.187407Z",
     "iopub.status.busy": "2025-09-24T20:55:07.187026Z",
     "iopub.status.idle": "2025-09-24T20:55:07.296577Z",
     "shell.execute_reply": "2025-09-24T20:55:07.295859Z"
    },
    "papermill": {
     "duration": 0.188667,
     "end_time": "2025-09-24T20:55:07.298236",
     "exception": false,
     "start_time": "2025-09-24T20:55:07.109569",
     "status": "completed"
    },
    "tags": []
   },
   "outputs": [],
   "source": [
    "seed_everything(42)\n",
    "\n",
    "mnist_train = torchvision.datasets.MNIST(\n",
    "    './mnist/',\n",
    "    train=True,\n",
    "    download=True,\n",
    "    transform=transform\n",
    ")\n",
    "\n",
    "mnist_val = torchvision.datasets.MNIST(\n",
    "    './mnist/',\n",
    "    train=False,\n",
    "    download=True,\n",
    "    transform=transform\n",
    ")\n",
    "\n",
    "train_dataloader = torch.utils.data.DataLoader(mnist_train, batch_size=64, shuffle=True)\n",
    "val_dataloader = torch.utils.data.DataLoader(mnist_val, batch_size=64, shuffle=True)"
   ]
  },
  {
   "cell_type": "code",
   "execution_count": 17,
   "id": "c92b6608",
   "metadata": {
    "execution": {
     "iopub.execute_input": "2025-09-24T20:55:07.453585Z",
     "iopub.status.busy": "2025-09-24T20:55:07.452949Z",
     "iopub.status.idle": "2025-09-24T20:55:07.607488Z",
     "shell.execute_reply": "2025-09-24T20:55:07.606707Z"
    },
    "papermill": {
     "duration": 0.234019,
     "end_time": "2025-09-24T20:55:07.608858",
     "exception": false,
     "start_time": "2025-09-24T20:55:07.374839",
     "status": "completed"
    },
    "tags": []
   },
   "outputs": [
    {
     "data": {
      "text/plain": [
       "<matplotlib.image.AxesImage at 0x7c2bf2bb5950>"
      ]
     },
     "execution_count": 17,
     "metadata": {},
     "output_type": "execute_result"
    },
    {
     "data": {
      "image/png": "[encoded data removed]",
      "text/plain": [
       "<Figure size 640x480 with 1 Axes>"
      ]
     },
     "metadata": {},
     "output_type": "display_data"
    }
   ],
   "source": [
    "plt.imshow(mnist_train[0][0].squeeze(0).numpy().reshape([28, 28]))"
   ]
  },
  {
   "cell_type": "code",
   "execution_count": 18,
   "id": "5a9e7ce5",
   "metadata": {
    "execution": {
     "iopub.execute_input": "2025-09-24T20:55:07.764667Z",
     "iopub.status.busy": "2025-09-24T20:55:07.764347Z",
     "iopub.status.idle": "2025-09-24T20:55:07.771537Z",
     "shell.execute_reply": "2025-09-24T20:55:07.770628Z"
    },
    "papermill": {
     "duration": 0.086901,
     "end_time": "2025-09-24T20:55:07.772978",
     "exception": false,
     "start_time": "2025-09-24T20:55:07.686077",
     "status": "completed"
    },
    "tags": []
   },
   "outputs": [],
   "source": [
    "model = nn.Sequential(\n",
    "    nn.Conv2d(in_channels=1, out_channels=10, kernel_size=5),  # grayscale\n",
    "    nn.ReLU(),\n",
    "    nn.MaxPool2d(kernel_size=4),   # сократим изображение в 4 раза по каждой из сторон\n",
    "    nn.Flatten(),\n",
    "    nn.Linear(6*6*10, 128),\n",
    "    nn.ReLU(),\n",
    "    nn.Linear(128, 10)\n",
    ")\n",
    "\n",
    "optimizer = torch.optim.Adam(model.parameters(), lr=0.001)"
   ]
  },
  {
   "cell_type": "code",
   "execution_count": 19,
   "id": "25313f12",
   "metadata": {
    "execution": {
     "iopub.execute_input": "2025-09-24T20:55:07.931442Z",
     "iopub.status.busy": "2025-09-24T20:55:07.930861Z",
     "iopub.status.idle": "2025-09-24T20:55:07.935164Z",
     "shell.execute_reply": "2025-09-24T20:55:07.934371Z"
    },
    "papermill": {
     "duration": 0.083866,
     "end_time": "2025-09-24T20:55:07.936506",
     "exception": false,
     "start_time": "2025-09-24T20:55:07.852640",
     "status": "completed"
    },
    "tags": []
   },
   "outputs": [],
   "source": [
    "def mse_loss(output, target):\n",
    "    target_onehot = F.one_hot(target, num_classes=10).float()\n",
    "    return F.mse_loss(output, target_onehot)"
   ]
  },
  {
   "cell_type": "code",
   "execution_count": 20,
   "id": "e62cb43d",
   "metadata": {
    "execution": {
     "iopub.execute_input": "2025-09-24T20:55:08.154917Z",
     "iopub.status.busy": "2025-09-24T20:55:08.154622Z",
     "iopub.status.idle": "2025-09-24T20:55:08.166207Z",
     "shell.execute_reply": "2025-09-24T20:55:08.165491Z"
    },
    "papermill": {
     "duration": 0.153853,
     "end_time": "2025-09-24T20:55:08.167806",
     "exception": false,
     "start_time": "2025-09-24T20:55:08.013953",
     "status": "completed"
    },
    "tags": []
   },
   "outputs": [],
   "source": [
    "def train(model, optimizer, n_epochs=10):\n",
    "    train_losses = []\n",
    "    val_losses = []\n",
    "    train_accuracies = []\n",
    "    val_accuracies = []\n",
    "    \n",
    "    print(f\"Количество обучаемых параметров: {sum(p.numel() for p in model.parameters() if p.requires_grad):,}\")\n",
    "    \n",
    "    for epoch in range(n_epochs):\n",
    "        model.train()\n",
    "        epoch_loss = 0.0\n",
    "        epoch_correct = 0\n",
    "        epoch_total = 0\n",
    "        \n",
    "        for x_train, y_train in tqdm(train_dataloader, desc=f\"Epoch {epoch+1}/{n_epochs}\"):\n",
    "            y_pred = model(x_train)\n",
    "            loss = mse_loss(y_pred, y_train)\n",
    "            loss.backward()\n",
    "            optimizer.step()\n",
    "            optimizer.zero_grad()\n",
    "            epoch_loss += loss.item()\n",
    "            _, predicted = torch.max(y_pred.data, 1)\n",
    "            epoch_total += y_train.size(0)\n",
    "            epoch_correct += (predicted == y_train).sum().item()\n",
    "        \n",
    "        train_accuracy = epoch_correct / epoch_total\n",
    "        avg_train_loss = epoch_loss / len(train_dataloader)\n",
    "        train_losses.append(avg_train_loss)\n",
    "        train_accuracies.append(train_accuracy)\n",
    "        model.eval()\n",
    "        val_loss = []\n",
    "        val_accuracy = []\n",
    "        \n",
    "        with torch.no_grad():\n",
    "            for x_val, y_val in val_dataloader:\n",
    "                y_pred = model(x_val)\n",
    "                loss = mse_loss(y_pred, y_val) \n",
    "                val_loss.append(loss.item())\n",
    "                val_accuracy.extend((torch.argmax(y_pred, dim=-1) == y_val).cpu().numpy().tolist())\n",
    "        \n",
    "        avg_val_loss = np.mean(val_loss)\n",
    "        avg_val_accuracy = np.mean(val_accuracy)\n",
    "        val_losses.append(avg_val_loss)\n",
    "        val_accuracies.append(avg_val_accuracy)\n",
    "        print(f'Epoch {epoch+1}: loss: {avg_val_loss:.4f}, accuracy: {avg_val_accuracy:.4f}')\n",
    "        \n",
    "    plt.figure(figsize=(12, 4))\n",
    "    plt.subplot(1, 2, 1)\n",
    "    plt.plot(train_losses, label='Train Loss', marker='o')\n",
    "    plt.plot(val_losses, label='Val Loss', marker='s')\n",
    "    plt.title('Loss')\n",
    "    plt.xlabel('Epoch')\n",
    "    plt.legend()\n",
    "    plt.grid(True)\n",
    "    \n",
    "    plt.subplot(1, 2, 2)\n",
    "    plt.plot(train_accuracies, label='Train Accuracy', marker='o')\n",
    "    plt.plot(val_accuracies, label='Val Accuracy', marker='s')\n",
    "    plt.axhline(y=0.9747, color='r', linestyle='--', label='Baseline 0.9747')\n",
    "    plt.title('Accuracy')\n",
    "    plt.xlabel('Epoch')\n",
    "    plt.legend()\n",
    "    plt.grid(True)\n",
    "    \n",
    "    plt.tight_layout()\n",
    "    plt.show()\n",
    "    \n",
    "    best_accuracy = max(val_accuracies)\n",
    "    print(best_accuracy)\n",
    "    return best_accuracy"
   ]
  },
  {
   "cell_type": "code",
   "execution_count": 21,
   "id": "11cff153",
   "metadata": {
    "execution": {
     "iopub.execute_input": "2025-09-24T20:55:08.327251Z",
     "iopub.status.busy": "2025-09-24T20:55:08.326368Z",
     "iopub.status.idle": "2025-09-24T20:58:41.422590Z",
     "shell.execute_reply": "2025-09-24T20:58:41.421713Z"
    },
    "papermill": {
     "duration": 213.17833,
     "end_time": "2025-09-24T20:58:41.424869",
     "exception": false,
     "start_time": "2025-09-24T20:55:08.246539",
     "status": "completed"
    },
    "tags": []
   },
   "outputs": [
    {
     "name": "stdout",
     "output_type": "stream",
     "text": [
      "Количество обучаемых параметров: 47,758\n"
     ]
    },
    {
     "name": "stderr",
     "output_type": "stream",
     "text": [
      "Epoch 1/10: 100%|██████████| 938/938 [00:18<00:00, 49.64it/s]\n"
     ]
    },
    {
     "name": "stdout",
     "output_type": "stream",
     "text": [
      "Epoch 1: loss: 0.0086, accuracy: 0.9777\n"
     ]
    },
    {
     "name": "stderr",
     "output_type": "stream",
     "text": [
      "Epoch 2/10: 100%|██████████| 938/938 [00:18<00:00, 50.02it/s]\n"
     ]
    },
    {
     "name": "stdout",
     "output_type": "stream",
     "text": [
      "Epoch 2: loss: 0.0067, accuracy: 0.9819\n"
     ]
    },
    {
     "name": "stderr",
     "output_type": "stream",
     "text": [
      "Epoch 3/10: 100%|██████████| 938/938 [00:18<00:00, 49.70it/s]\n"
     ]
    },
    {
     "name": "stdout",
     "output_type": "stream",
     "text": [
      "Epoch 3: loss: 0.0057, accuracy: 0.9848\n"
     ]
    },
    {
     "name": "stderr",
     "output_type": "stream",
     "text": [
      "Epoch 4/10: 100%|██████████| 938/938 [00:18<00:00, 49.58it/s]\n"
     ]
    },
    {
     "name": "stdout",
     "output_type": "stream",
     "text": [
      "Epoch 4: loss: 0.0053, accuracy: 0.9869\n"
     ]
    },
    {
     "name": "stderr",
     "output_type": "stream",
     "text": [
      "Epoch 5/10: 100%|██████████| 938/938 [00:18<00:00, 49.70it/s]\n"
     ]
    },
    {
     "name": "stdout",
     "output_type": "stream",
     "text": [
      "Epoch 5: loss: 0.0056, accuracy: 0.9858\n"
     ]
    },
    {
     "name": "stderr",
     "output_type": "stream",
     "text": [
      "Epoch 6/10: 100%|██████████| 938/938 [00:19<00:00, 49.26it/s]\n"
     ]
    },
    {
     "name": "stdout",
     "output_type": "stream",
     "text": [
      "Epoch 6: loss: 0.0048, accuracy: 0.9880\n"
     ]
    },
    {
     "name": "stderr",
     "output_type": "stream",
     "text": [
      "Epoch 7/10: 100%|██████████| 938/938 [00:19<00:00, 49.21it/s]\n"
     ]
    },
    {
     "name": "stdout",
     "output_type": "stream",
     "text": [
      "Epoch 7: loss: 0.0044, accuracy: 0.9870\n"
     ]
    },
    {
     "name": "stderr",
     "output_type": "stream",
     "text": [
      "Epoch 8/10: 100%|██████████| 938/938 [00:18<00:00, 49.47it/s]\n"
     ]
    },
    {
     "name": "stdout",
     "output_type": "stream",
     "text": [
      "Epoch 8: loss: 0.0044, accuracy: 0.9886\n"
     ]
    },
    {
     "name": "stderr",
     "output_type": "stream",
     "text": [
      "Epoch 9/10: 100%|██████████| 938/938 [00:19<00:00, 49.34it/s]\n"
     ]
    },
    {
     "name": "stdout",
     "output_type": "stream",
     "text": [
      "Epoch 9: loss: 0.0041, accuracy: 0.9891\n"
     ]
    },
    {
     "name": "stderr",
     "output_type": "stream",
     "text": [
      "Epoch 10/10: 100%|██████████| 938/938 [00:18<00:00, 49.43it/s]\n"
     ]
    },
    {
     "name": "stdout",
     "output_type": "stream",
     "text": [
      "Epoch 10: loss: 0.0040, accuracy: 0.9896\n"
     ]
    },
    {
     "data": {
      "image/png": "[encoded data removed]",
      "text/plain": [
       "<Figure size 1200x400 with 2 Axes>"
      ]
     },
     "metadata": {},
     "output_type": "display_data"
    },
    {
     "name": "stdout",
     "output_type": "stream",
     "text": [
      "0.9896\n"
     ]
    },
    {
     "data": {
      "text/plain": [
       "0.9896"
      ]
     },
     "execution_count": 21,
     "metadata": {},
     "output_type": "execute_result"
    }
   ],
   "source": [
    "train(model, optimizer)"
   ]
  },
  {
   "cell_type": "code",
   "execution_count": null,
   "id": "6c3c08c1",
   "metadata": {
    "papermill": {
     "duration": 0.224458,
     "end_time": "2025-09-24T20:58:41.810952",
     "exception": false,
     "start_time": "2025-09-24T20:58:41.586494",
     "status": "completed"
    },
    "tags": []
   },
   "outputs": [],
   "source": []
  }
 ],
 "metadata": {
  "colab": {
   "provenance": []
  },
  "kaggle": {
   "accelerator": "none",
   "dataSources": [],
   "dockerImageVersionId": 31089,
   "isGpuEnabled": false,
   "isInternetEnabled": true,
   "language": "python",
   "sourceType": "notebook"
  },
  "kernelspec": {
   "display_name": "Python 3",
   "language": "python",
   "name": "python3"
  },
  "language_info": {
   "codemirror_mode": {
    "name": "ipython",
    "version": 3
   },
   "file_extension": ".py",
   "mimetype": "text/x-python",
   "name": "python",
   "nbconvert_exporter": "python",
   "pygments_lexer": "ipython3",
   "version": "3.11.13"
  },
  "papermill": {
   "default_parameters": {},
   "duration": 409.717111,
   "end_time": "2025-09-24T20:58:44.346604",
   "environment_variables": {},
   "exception": null,
   "input_path": "__notebook__.ipynb",
   "output_path": "__notebook__.ipynb",
   "parameters": {},
   "start_time": "2025-09-24T20:51:54.629493",
   "version": "2.6.0"
  }
 },
 "nbformat": 4,
 "nbformat_minor": 5
}
