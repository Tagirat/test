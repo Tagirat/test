{
 "cells": [
  {
   "cell_type": "markdown",
   "id": "570be31a",
   "metadata": {
    "id": "YfPhAJr3jOkh",
    "papermill": {
     "duration": 0.006391,
     "end_time": "2025-09-13T08:38:57.955003",
     "exception": false,
     "start_time": "2025-09-13T08:38:57.948612",
     "status": "completed"
    },
    "tags": []
   },
   "source": [
    "# HW 1"
   ]
  },
  {
   "cell_type": "code",
   "execution_count": 1,
   "id": "28a73776",
   "metadata": {
    "execution": {
     "iopub.execute_input": "2025-09-13T08:38:57.970687Z",
     "iopub.status.busy": "2025-09-13T08:38:57.969344Z",
     "iopub.status.idle": "2025-09-13T08:39:03.312120Z",
     "shell.execute_reply": "2025-09-13T08:39:03.310942Z"
    },
    "id": "8cc148dc-d83d-4c32-bbb0-3ffd82ba4e98",
    "papermill": {
     "duration": 5.352402,
     "end_time": "2025-09-13T08:39:03.314150",
     "exception": false,
     "start_time": "2025-09-13T08:38:57.961748",
     "status": "completed"
    },
    "tags": []
   },
   "outputs": [],
   "source": [
    "import numpy as np\n",
    "import pandas as pd\n",
    "import matplotlib.pyplot as plt\n",
    "\n",
    "from sklearn.linear_model import LinearRegression\n",
    "from sklearn.model_selection import train_test_split\n",
    "from sklearn.metrics import r2_score\n",
    "from sklearn.preprocessing import MinMaxScaler\n",
    "\n",
    "%matplotlib inline"
   ]
  },
  {
   "cell_type": "markdown",
   "id": "1fd0c0a8",
   "metadata": {
    "id": "e3a06e1e-3bc0-4667-84f3-7e86698c3737",
    "papermill": {
     "duration": 0.005628,
     "end_time": "2025-09-13T08:39:03.325534",
     "exception": false,
     "start_time": "2025-09-13T08:39:03.319906",
     "status": "completed"
    },
    "tags": []
   },
   "source": [
    "# Загружаем выборку Diamonds"
   ]
  },
  {
   "cell_type": "markdown",
   "id": "e398d631",
   "metadata": {
    "id": "sI-cvLDCjsua",
    "papermill": {
     "duration": 0.00573,
     "end_time": "2025-09-13T08:39:03.337998",
     "exception": false,
     "start_time": "2025-09-13T08:39:03.332268",
     "status": "completed"
    },
    "tags": []
   },
   "source": [
    "На данной выборке можно проверять работоспособность своего решения"
   ]
  },
  {
   "cell_type": "markdown",
   "id": "3d62843c",
   "metadata": {
    "id": "c731a143-3dc9-43e7-96f5-b1eff9093345",
    "papermill": {
     "duration": 0.004839,
     "end_time": "2025-09-13T08:39:03.348711",
     "exception": false,
     "start_time": "2025-09-13T08:39:03.343872",
     "status": "completed"
    },
    "tags": []
   },
   "source": [
    "1. PRICE: price in US dollars (326-18,823)\n",
    "2. CARAT: weight of the diamond (0.2--5.01)\n",
    "3. CUT: quality of the cut (Fair, Good, Very Good, Premium, Ideal)\n",
    "4. COLOR: diamond colour, from J (worst) to D (best)\n",
    "5. CLARITY: a measurement of how clear the diamond is (I1 (worst), SI2, SI1, VS2, VS1, VVS2, VVS1, IF (best))\n",
    "6. X: length in mm (0--10.74)\n",
    "7. Y: width in mm (0--58.9)\n",
    "8. Z: depth in mm (0--31.8)\n",
    "9. DEPTH: total depth percentage = z / mean(x, y) = 2 * z / (x + y) (43--79)\n",
    "10. TABLE: width of top of diamond relative to widest point (43--95)"
   ]
  },
  {
   "cell_type": "code",
   "execution_count": 2,
   "id": "1c4d9439",
   "metadata": {
    "execution": {
     "iopub.execute_input": "2025-09-13T08:39:03.362798Z",
     "iopub.status.busy": "2025-09-13T08:39:03.361991Z",
     "iopub.status.idle": "2025-09-13T08:39:03.511648Z",
     "shell.execute_reply": "2025-09-13T08:39:03.510244Z"
    },
    "id": "0f24cf86-653a-422b-9df1-8029fdccf153",
    "papermill": {
     "duration": 0.160127,
     "end_time": "2025-09-13T08:39:03.513974",
     "exception": false,
     "start_time": "2025-09-13T08:39:03.353847",
     "status": "completed"
    },
    "tags": []
   },
   "outputs": [],
   "source": [
    "diamonds_df = pd.read_csv('/kaggle/input/diamonds/diamonds.csv')"
   ]
  },
  {
   "cell_type": "code",
   "execution_count": 3,
   "id": "7c186203",
   "metadata": {
    "execution": {
     "iopub.execute_input": "2025-09-13T08:39:03.532298Z",
     "iopub.status.busy": "2025-09-13T08:39:03.531701Z",
     "iopub.status.idle": "2025-09-13T08:39:03.572807Z",
     "shell.execute_reply": "2025-09-13T08:39:03.571615Z"
    },
    "id": "70d9ccfe-e1cf-4c90-a5ab-40ae0852f1ce",
    "outputId": "48caecef-fcb9-440b-dd8b-3e4189ff9708",
    "papermill": {
     "duration": 0.052833,
     "end_time": "2025-09-13T08:39:03.574488",
     "exception": false,
     "start_time": "2025-09-13T08:39:03.521655",
     "status": "completed"
    },
    "tags": []
   },
   "outputs": [
    {
     "data": {
      "text/html": [
       "<div>\n",
       "<style scoped>\n",
       "    .dataframe tbody tr th:only-of-type {\n",
       "        vertical-align: middle;\n",
       "    }\n",
       "\n",
       "    .dataframe tbody tr th {\n",
       "        vertical-align: top;\n",
       "    }\n",
       "\n",
       "    .dataframe thead th {\n",
       "        text-align: right;\n",
       "    }\n",
       "</style>\n",
       "<table border=\"1\" class=\"dataframe\">\n",
       "  <thead>\n",
       "    <tr style=\"text-align: right;\">\n",
       "      <th></th>\n",
       "      <th>Unnamed: 0</th>\n",
       "      <th>carat</th>\n",
       "      <th>cut</th>\n",
       "      <th>color</th>\n",
       "      <th>clarity</th>\n",
       "      <th>depth</th>\n",
       "      <th>table</th>\n",
       "      <th>price</th>\n",
       "      <th>x</th>\n",
       "      <th>y</th>\n",
       "      <th>z</th>\n",
       "    </tr>\n",
       "  </thead>\n",
       "  <tbody>\n",
       "    <tr>\n",
       "      <th>0</th>\n",
       "      <td>1</td>\n",
       "      <td>0.23</td>\n",
       "      <td>Ideal</td>\n",
       "      <td>E</td>\n",
       "      <td>SI2</td>\n",
       "      <td>61.5</td>\n",
       "      <td>55.0</td>\n",
       "      <td>326</td>\n",
       "      <td>3.95</td>\n",
       "      <td>3.98</td>\n",
       "      <td>2.43</td>\n",
       "    </tr>\n",
       "    <tr>\n",
       "      <th>1</th>\n",
       "      <td>2</td>\n",
       "      <td>0.21</td>\n",
       "      <td>Premium</td>\n",
       "      <td>E</td>\n",
       "      <td>SI1</td>\n",
       "      <td>59.8</td>\n",
       "      <td>61.0</td>\n",
       "      <td>326</td>\n",
       "      <td>3.89</td>\n",
       "      <td>3.84</td>\n",
       "      <td>2.31</td>\n",
       "    </tr>\n",
       "    <tr>\n",
       "      <th>2</th>\n",
       "      <td>3</td>\n",
       "      <td>0.23</td>\n",
       "      <td>Good</td>\n",
       "      <td>E</td>\n",
       "      <td>VS1</td>\n",
       "      <td>56.9</td>\n",
       "      <td>65.0</td>\n",
       "      <td>327</td>\n",
       "      <td>4.05</td>\n",
       "      <td>4.07</td>\n",
       "      <td>2.31</td>\n",
       "    </tr>\n",
       "    <tr>\n",
       "      <th>3</th>\n",
       "      <td>4</td>\n",
       "      <td>0.29</td>\n",
       "      <td>Premium</td>\n",
       "      <td>I</td>\n",
       "      <td>VS2</td>\n",
       "      <td>62.4</td>\n",
       "      <td>58.0</td>\n",
       "      <td>334</td>\n",
       "      <td>4.20</td>\n",
       "      <td>4.23</td>\n",
       "      <td>2.63</td>\n",
       "    </tr>\n",
       "    <tr>\n",
       "      <th>4</th>\n",
       "      <td>5</td>\n",
       "      <td>0.31</td>\n",
       "      <td>Good</td>\n",
       "      <td>J</td>\n",
       "      <td>SI2</td>\n",
       "      <td>63.3</td>\n",
       "      <td>58.0</td>\n",
       "      <td>335</td>\n",
       "      <td>4.34</td>\n",
       "      <td>4.35</td>\n",
       "      <td>2.75</td>\n",
       "    </tr>\n",
       "  </tbody>\n",
       "</table>\n",
       "</div>"
      ],
      "text/plain": [
       "   Unnamed: 0  carat      cut color clarity  depth  table  price     x     y  \\\n",
       "0           1   0.23    Ideal     E     SI2   61.5   55.0    326  3.95  3.98   \n",
       "1           2   0.21  Premium     E     SI1   59.8   61.0    326  3.89  3.84   \n",
       "2           3   0.23     Good     E     VS1   56.9   65.0    327  4.05  4.07   \n",
       "3           4   0.29  Premium     I     VS2   62.4   58.0    334  4.20  4.23   \n",
       "4           5   0.31     Good     J     SI2   63.3   58.0    335  4.34  4.35   \n",
       "\n",
       "      z  \n",
       "0  2.43  \n",
       "1  2.31  \n",
       "2  2.31  \n",
       "3  2.63  \n",
       "4  2.75  "
      ]
     },
     "execution_count": 3,
     "metadata": {},
     "output_type": "execute_result"
    }
   ],
   "source": [
    "diamonds_df.head()"
   ]
  },
  {
   "cell_type": "code",
   "execution_count": 4,
   "id": "91ef87ad",
   "metadata": {
    "execution": {
     "iopub.execute_input": "2025-09-13T08:39:03.586987Z",
     "iopub.status.busy": "2025-09-13T08:39:03.586665Z",
     "iopub.status.idle": "2025-09-13T08:39:04.089999Z",
     "shell.execute_reply": "2025-09-13T08:39:04.088982Z"
    },
    "id": "fad21c95-f542-44ec-8f06-8f57fd42ddef",
    "outputId": "cda66a09-590c-45b0-9ed1-1699bfddaaf9",
    "papermill": {
     "duration": 0.511641,
     "end_time": "2025-09-13T08:39:04.091880",
     "exception": false,
     "start_time": "2025-09-13T08:39:03.580239",
     "status": "completed"
    },
    "tags": []
   },
   "outputs": [
    {
     "data": {
      "image/png": "[encoded data removed]",
      "text/plain": [
       "<Figure size 640x480 with 1 Axes>"
      ]
     },
     "metadata": {},
     "output_type": "display_data"
    }
   ],
   "source": [
    "plt.hist(diamonds_df['price'], bins=100)\n",
    "plt.grid();"
   ]
  },
  {
   "cell_type": "markdown",
   "id": "84fbb166",
   "metadata": {
    "id": "17ac44bb-86c7-424a-8b9b-0a21bf490683",
    "papermill": {
     "duration": 0.005937,
     "end_time": "2025-09-13T08:39:04.103968",
     "exception": false,
     "start_time": "2025-09-13T08:39:04.098031",
     "status": "completed"
    },
    "tags": []
   },
   "source": [
    "# Подготовка данных"
   ]
  },
  {
   "cell_type": "code",
   "execution_count": 5,
   "id": "c554090f",
   "metadata": {
    "execution": {
     "iopub.execute_input": "2025-09-13T08:39:04.118741Z",
     "iopub.status.busy": "2025-09-13T08:39:04.117302Z",
     "iopub.status.idle": "2025-09-13T08:39:04.123187Z",
     "shell.execute_reply": "2025-09-13T08:39:04.121878Z"
    },
    "id": "e19945ea-cecf-481e-a28b-3f9c11001918",
    "papermill": {
     "duration": 0.01569,
     "end_time": "2025-09-13T08:39:04.125414",
     "exception": false,
     "start_time": "2025-09-13T08:39:04.109724",
     "status": "completed"
    },
    "tags": []
   },
   "outputs": [],
   "source": [
    "features = ['carat', 'cut', 'color', 'clarity', 'depth', 'table', 'x', 'y', 'z']\n",
    "target = ['price']"
   ]
  },
  {
   "cell_type": "code",
   "execution_count": 6,
   "id": "9a02b6fc",
   "metadata": {
    "execution": {
     "iopub.execute_input": "2025-09-13T08:39:04.138648Z",
     "iopub.status.busy": "2025-09-13T08:39:04.138291Z",
     "iopub.status.idle": "2025-09-13T08:39:04.144705Z",
     "shell.execute_reply": "2025-09-13T08:39:04.143288Z"
    },
    "id": "fbc43eb0-e77f-4765-8b0e-b9052c093855",
    "papermill": {
     "duration": 0.015383,
     "end_time": "2025-09-13T08:39:04.146786",
     "exception": false,
     "start_time": "2025-09-13T08:39:04.131403",
     "status": "completed"
    },
    "tags": []
   },
   "outputs": [],
   "source": [
    "cut_transform = {'Fair': 0, 'Good': 1, 'Very Good': 2, 'Premium': 3, 'Ideal': 4}\n",
    "clarity_transform = {'I1': 0, 'SI2': 1, 'SI1': 2, 'VS2': 3, 'VS1': 4, 'VVS2': 5, 'VVS1': 6, 'IF': 7}\n",
    "color_transorm = {'D': 0, 'E': 1, 'F': 2, 'G': 3, 'H': 4, 'I': 5, 'J': 6}"
   ]
  },
  {
   "cell_type": "code",
   "execution_count": 7,
   "id": "e017979d",
   "metadata": {
    "execution": {
     "iopub.execute_input": "2025-09-13T08:39:04.162124Z",
     "iopub.status.busy": "2025-09-13T08:39:04.161313Z",
     "iopub.status.idle": "2025-09-13T08:39:04.231396Z",
     "shell.execute_reply": "2025-09-13T08:39:04.230306Z"
    },
    "id": "6f82b34f-9ffc-478f-a103-b2cbbca49a94",
    "papermill": {
     "duration": 0.080121,
     "end_time": "2025-09-13T08:39:04.233360",
     "exception": false,
     "start_time": "2025-09-13T08:39:04.153239",
     "status": "completed"
    },
    "tags": []
   },
   "outputs": [],
   "source": [
    "diamonds_df['cut'] = diamonds_df['cut'].apply(lambda x: cut_transform.get(x))\n",
    "diamonds_df['color'] = diamonds_df['color'].apply(lambda x: color_transorm.get(x))\n",
    "diamonds_df['clarity'] = diamonds_df['clarity'].apply(lambda x: clarity_transform.get(x))"
   ]
  },
  {
   "cell_type": "code",
   "execution_count": 8,
   "id": "6974a47e",
   "metadata": {
    "execution": {
     "iopub.execute_input": "2025-09-13T08:39:04.248189Z",
     "iopub.status.busy": "2025-09-13T08:39:04.247775Z",
     "iopub.status.idle": "2025-09-13T08:39:04.271899Z",
     "shell.execute_reply": "2025-09-13T08:39:04.270811Z"
    },
    "id": "8e5fa82b-92ed-4e79-adf2-422204b45e82",
    "papermill": {
     "duration": 0.034236,
     "end_time": "2025-09-13T08:39:04.274640",
     "exception": false,
     "start_time": "2025-09-13T08:39:04.240404",
     "status": "completed"
    },
    "tags": []
   },
   "outputs": [],
   "source": [
    "X = diamonds_df[features].copy().values\n",
    "y = diamonds_df[target].values"
   ]
  },
  {
   "cell_type": "code",
   "execution_count": 9,
   "id": "4661518d",
   "metadata": {
    "execution": {
     "iopub.execute_input": "2025-09-13T08:39:04.288814Z",
     "iopub.status.busy": "2025-09-13T08:39:04.288396Z",
     "iopub.status.idle": "2025-09-13T08:39:04.304661Z",
     "shell.execute_reply": "2025-09-13T08:39:04.303315Z"
    },
    "id": "64c11d68-dc5c-4753-9cc4-3cc4e136f3cb",
    "papermill": {
     "duration": 0.025445,
     "end_time": "2025-09-13T08:39:04.306774",
     "exception": false,
     "start_time": "2025-09-13T08:39:04.281329",
     "status": "completed"
    },
    "tags": []
   },
   "outputs": [],
   "source": [
    "X_train, X_test, y_train, y_test = train_test_split(X, y, random_state=47, test_size=0.3)"
   ]
  },
  {
   "cell_type": "code",
   "execution_count": 10,
   "id": "da4ec369",
   "metadata": {
    "execution": {
     "iopub.execute_input": "2025-09-13T08:39:04.319885Z",
     "iopub.status.busy": "2025-09-13T08:39:04.319483Z",
     "iopub.status.idle": "2025-09-13T08:39:04.366846Z",
     "shell.execute_reply": "2025-09-13T08:39:04.365811Z"
    },
    "id": "rGU9tSuwk3Lp",
    "papermill": {
     "duration": 0.056139,
     "end_time": "2025-09-13T08:39:04.368761",
     "exception": false,
     "start_time": "2025-09-13T08:39:04.312622",
     "status": "completed"
    },
    "tags": []
   },
   "outputs": [],
   "source": [
    "scaler = MinMaxScaler()\n",
    "X_train = scaler.fit_transform(X_train)\n",
    "X_test = scaler.transform(X_test)"
   ]
  },
  {
   "cell_type": "markdown",
   "id": "16180b24",
   "metadata": {
    "id": "3b743ed1-d0cf-485d-b8f2-8c71fc174e8b",
    "papermill": {
     "duration": 0.005548,
     "end_time": "2025-09-13T08:39:04.380230",
     "exception": false,
     "start_time": "2025-09-13T08:39:04.374682",
     "status": "completed"
    },
    "tags": []
   },
   "source": [
    "# Обучаем модель линейной регрессии"
   ]
  },
  {
   "cell_type": "code",
   "execution_count": 11,
   "id": "79d432f1",
   "metadata": {
    "execution": {
     "iopub.execute_input": "2025-09-13T08:39:04.393022Z",
     "iopub.status.busy": "2025-09-13T08:39:04.392671Z",
     "iopub.status.idle": "2025-09-13T08:39:04.510640Z",
     "shell.execute_reply": "2025-09-13T08:39:04.509376Z"
    },
    "id": "3N2iJEIuxW0H",
    "papermill": {
     "duration": 0.126676,
     "end_time": "2025-09-13T08:39:04.512569",
     "exception": false,
     "start_time": "2025-09-13T08:39:04.385893",
     "status": "completed"
    },
    "tags": []
   },
   "outputs": [],
   "source": [
    "reg = LinearRegression().fit(X_train, y_train)"
   ]
  },
  {
   "cell_type": "code",
   "execution_count": 12,
   "id": "453eb94e",
   "metadata": {
    "execution": {
     "iopub.execute_input": "2025-09-13T08:39:04.532841Z",
     "iopub.status.busy": "2025-09-13T08:39:04.532355Z",
     "iopub.status.idle": "2025-09-13T08:39:04.538892Z",
     "shell.execute_reply": "2025-09-13T08:39:04.537964Z"
    },
    "id": "f968e336-4049-41b2-81d1-4c24f0969bbb",
    "papermill": {
     "duration": 0.018744,
     "end_time": "2025-09-13T08:39:04.540784",
     "exception": false,
     "start_time": "2025-09-13T08:39:04.522040",
     "status": "completed"
    },
    "tags": []
   },
   "outputs": [],
   "source": [
    "y_pred = reg.predict(X_test)"
   ]
  },
  {
   "cell_type": "code",
   "execution_count": 13,
   "id": "66ce3bd0",
   "metadata": {
    "execution": {
     "iopub.execute_input": "2025-09-13T08:39:04.560555Z",
     "iopub.status.busy": "2025-09-13T08:39:04.560206Z",
     "iopub.status.idle": "2025-09-13T08:39:04.566436Z",
     "shell.execute_reply": "2025-09-13T08:39:04.565548Z"
    },
    "id": "0952990a-b3d6-4da4-9cc6-1ab3a7a25ac7",
    "papermill": {
     "duration": 0.018334,
     "end_time": "2025-09-13T08:39:04.568232",
     "exception": false,
     "start_time": "2025-09-13T08:39:04.549898",
     "status": "completed"
    },
    "tags": []
   },
   "outputs": [],
   "source": [
    "score = r2_score(y_pred, y_test)"
   ]
  },
  {
   "cell_type": "code",
   "execution_count": 14,
   "id": "d95b7122",
   "metadata": {
    "execution": {
     "iopub.execute_input": "2025-09-13T08:39:04.581926Z",
     "iopub.status.busy": "2025-09-13T08:39:04.581150Z",
     "iopub.status.idle": "2025-09-13T08:39:05.269146Z",
     "shell.execute_reply": "2025-09-13T08:39:05.268051Z"
    },
    "id": "f89c3bbd-0a3a-48ac-b1ab-b75dc0c5bcce",
    "outputId": "587de3bd-b38b-4de9-d156-ac034b9dc075",
    "papermill": {
     "duration": 0.696829,
     "end_time": "2025-09-13T08:39:05.271067",
     "exception": false,
     "start_time": "2025-09-13T08:39:04.574238",
     "status": "completed"
    },
    "tags": []
   },
   "outputs": [
    {
     "data": {
      "image/png": "[encoded data removed]",
      "text/plain": [
       "<Figure size 640x480 with 1 Axes>"
      ]
     },
     "metadata": {},
     "output_type": "display_data"
    }
   ],
   "source": [
    "plt.title(f'R2: {str(score)[:5]}')\n",
    "plt.hist(y_pred.reshape(1, -1)[0], bins=100, label='PREDICTION')\n",
    "plt.hist(y_test.reshape(1, -1)[0], bins=100, label='GT')\n",
    "plt.legend()\n",
    "plt.grid();"
   ]
  },
  {
   "cell_type": "markdown",
   "id": "d8a43ccb",
   "metadata": {
    "id": "6nKJT7VRlIeU",
    "papermill": {
     "duration": 0.005914,
     "end_time": "2025-09-13T08:39:05.283497",
     "exception": false,
     "start_time": "2025-09-13T08:39:05.277583",
     "status": "completed"
    },
    "tags": []
   },
   "source": [
    "# Задание 1: Реализация Gradient Descent для модели линейной регрессии"
   ]
  },
  {
   "cell_type": "markdown",
   "id": "9f0d60ed",
   "metadata": {
    "id": "7UpV6l4clfwC",
    "papermill": {
     "duration": 0.005965,
     "end_time": "2025-09-13T08:39:05.295591",
     "exception": false,
     "start_time": "2025-09-13T08:39:05.289626",
     "status": "completed"
    },
    "tags": []
   },
   "source": [
    "Ниже представлен шаблон кода, который необходимо дополнить, реализовав все указанные методы, и самостоятельно протестировать корректность решения. Можно (и даже нужно) добавлять свои методы для бОльшей читабельности кода\n",
    "\n",
    "Достаточно будет, чтобы код работал для случая, когда X и y - np.ndarray\n",
    "\n",
    "Внутри класса запрещается использовать сторонние библиотеки, кроме numpy"
   ]
  },
  {
   "cell_type": "code",
   "execution_count": 15,
   "id": "46f4be31",
   "metadata": {
    "execution": {
     "iopub.execute_input": "2025-09-13T08:39:05.310057Z",
     "iopub.status.busy": "2025-09-13T08:39:05.309765Z",
     "iopub.status.idle": "2025-09-13T08:39:05.322046Z",
     "shell.execute_reply": "2025-09-13T08:39:05.320980Z"
    },
    "papermill": {
     "duration": 0.021423,
     "end_time": "2025-09-13T08:39:05.323957",
     "exception": false,
     "start_time": "2025-09-13T08:39:05.302534",
     "status": "completed"
    },
    "tags": []
   },
   "outputs": [],
   "source": [
    "class LinearRegressorGD:\n",
    "    def __init__(self, learning_rate=0.01, n_iter=1000, reg_type='l1', reg_strength=0.0):\n",
    "        self.reg_type = reg_type\n",
    "        self.lr = learning_rate\n",
    "        self.max_epochs = n_iter\n",
    "        self.w = None\n",
    "        self.b = None\n",
    "        self.reg_strength = reg_strength\n",
    "\n",
    "    def train(self, features, target):\n",
    "        features = np.array(features, dtype=float)\n",
    "        target = np.array(target, dtype=float).flatten()\n",
    "        self.initialize_params(features.shape[1])\n",
    "        \n",
    "        for epoch in range(self.max_epochs):\n",
    "            grad_w, grad_b = self.calculate_gradient(features, target)\n",
    "            self.w -= self.lr * grad_w\n",
    "            self.b -= self.lr * grad_b\n",
    "\n",
    "    def initialize_params(self, n_features):\n",
    "        self.w = np.random.normal(0, 0.1, n_features)\n",
    "        self.b = 0.0\n",
    "\n",
    "    def get_regularization_term(self):\n",
    "        if self.reg_type == \"l1\":\n",
    "            return self.reg_strength * np.sign(self.w)\n",
    "        elif self.reg_type == \"l2\":\n",
    "            return 2 * self.reg_strength * self.w\n",
    "        return np.zeros_like(self.w)\n",
    "\n",
    "    def calculate_gradient(self, X, y):\n",
    "        predictions = X.dot(self.w) + self.b\n",
    "        residuals = predictions - y\n",
    "        grad_b = 2.0 * np.mean(residuals)\n",
    "        grad_w = (2.0 / X.shape[0]) * X.T.dot(residuals)\n",
    "        grad_w += self.get_regularization_term()\n",
    "        return grad_w, grad_b\n",
    "\n",
    "    def make_prediction(self, features):\n",
    "        features = np.array(features, dtype=float)\n",
    "        return features.dot(self.w) + self.b\n",
    "\n",
    "    def calculate_loss(self, features, target):\n",
    "        predictions = self.make_prediction(features)\n",
    "        return float(np.mean((predictions - target) ** 2))\n"
   ]
  },
  {
   "cell_type": "markdown",
   "id": "b5be600f",
   "metadata": {
    "id": "ebkQuLxTpTmF",
    "papermill": {
     "duration": 0.006227,
     "end_time": "2025-09-13T08:39:05.336540",
     "exception": false,
     "start_time": "2025-09-13T08:39:05.330313",
     "status": "completed"
    },
    "tags": []
   },
   "source": [
    "# Задание 2: Реализация backpropagation для MLP"
   ]
  },
  {
   "cell_type": "markdown",
   "id": "75e67f01",
   "metadata": {
    "id": "2G7W8JLzpZRf",
    "papermill": {
     "duration": 0.005851,
     "end_time": "2025-09-13T08:39:05.348684",
     "exception": false,
     "start_time": "2025-09-13T08:39:05.342833",
     "status": "completed"
    },
    "tags": []
   },
   "source": [
    "Ниже представлен шаблон кода, который необходимо дополнить, реализовав все указанные методы, и самостоятельно протестировать корректность решения. Можно (и даже нужно) добавлять свои методы для бОльшей читабельности кода\n",
    "\n",
    "Достаточно будет, чтобы код работал для случая, когда X и y - np.ndarray\n",
    "\n",
    "В качестве функции активации на внутренних слоях нужно использовать Sigmoid, а на выходе - линейную активацию f(x) = x\n",
    "\n",
    "Внутри класса запрещается использовать сторонние библиотеки, кроме numpy"
   ]
  },
  {
   "cell_type": "code",
   "execution_count": 16,
   "id": "5adddadc",
   "metadata": {
    "execution": {
     "iopub.execute_input": "2025-09-13T08:39:05.363423Z",
     "iopub.status.busy": "2025-09-13T08:39:05.363059Z",
     "iopub.status.idle": "2025-09-13T08:39:05.383311Z",
     "shell.execute_reply": "2025-09-13T08:39:05.382151Z"
    },
    "papermill": {
     "duration": 0.029917,
     "end_time": "2025-09-13T08:39:05.385239",
     "exception": false,
     "start_time": "2025-09-13T08:39:05.355322",
     "status": "completed"
    },
    "tags": []
   },
   "outputs": [],
   "source": [
    "from numpy.random import RandomState\n",
    "\n",
    "class MLPRegressor:\n",
    "    def __init__(\n",
    "        self,\n",
    "        hidden_layer_sizes: tuple = (150,),\n",
    "        learning_rate: float = 2,\n",
    "        n_iter: int = 2000,\n",
    "        random_state: int = 42,\n",
    "    ):\n",
    "        self.hidden_layer_sizes = tuple(hidden_layer_sizes)\n",
    "        self.learning_rate = float(learning_rate)\n",
    "        self.n_iter = int(n_iter)\n",
    "        self.random_state = random_state\n",
    "        \n",
    "        self.w = []\n",
    "        self.b = []\n",
    "        self._initialized = False\n",
    "\n",
    "    def init_params(self, n_in: int, n_out: int = 1):\n",
    "        self.randomizer = RandomState(self.random_state)\n",
    "        \n",
    "        layer_sizes = (n_in, *self.hidden_layer_sizes, n_out)\n",
    "        layer_len = len(layer_sizes) - 1\n",
    "\n",
    "        self.w, self.b = [], []\n",
    "        for i in range(layer_len):\n",
    "            neuron_in, neuron_out = layer_sizes[i], layer_sizes[i + 1]\n",
    "            \n",
    "            normalized_w = self.randomizer.normal(loc=0.0, scale=1.0, size=(neuron_in, neuron_out)).astype(np.float32)\n",
    "            \n",
    "            bias = np.zeros((1, neuron_out), dtype=np.float32)\n",
    "            self.w.append(normalized_w)\n",
    "            self.b.append(bias)\n",
    "\n",
    "        self._initialized = True\n",
    "\n",
    "    def sigmoid(self, coef: np.ndarray) -> np.ndarray:\n",
    "        return 1 / (1 + np.exp(-coef))\n",
    "    \n",
    "    def sigmoid_grad(self, x: np.ndarray) -> np.ndarray:\n",
    "        return x * (1 - x)\n",
    "\n",
    "    def forward(self, X: np.ndarray):\n",
    "        if not self._initialized:\n",
    "            self.init_params(X.shape[1], 1)\n",
    "\n",
    "        output = X\n",
    "        activations = []\n",
    "\n",
    "        layer_len = len(self.w)\n",
    "        for i in range(layer_len):\n",
    "            temp_res = output.dot(self.w[i]) + self.b[i]\n",
    "            \n",
    "            if i < layer_len - 1:\n",
    "                output = self.sigmoid(temp_res)\n",
    "            else:\n",
    "                output = temp_res\n",
    "            activations.append(output)\n",
    "\n",
    "        return output, activations\n",
    "\n",
    "    def backward(self, X: np.ndarray, y: np.ndarray, A_list: list[np.ndarray]):\n",
    "        layer_len = len(self.w)\n",
    "\n",
    "        y_pred = A_list[-1]\n",
    "        grad_first = (2 / y.shape[0]) * (y_pred - y)\n",
    "\n",
    "        grad_w = [0] * layer_len\n",
    "        grad_b = [0] * layer_len\n",
    "\n",
    "        for i in reversed(range(layer_len)):\n",
    "            if i == layer_len - 1:\n",
    "                grad_second = grad_first\n",
    "            else:\n",
    "                grad_second = grad_first * self.sigmoid_grad(A_list[i])\n",
    "\n",
    "            A_prev = X if i == 0 else A_list[i - 1]\n",
    "\n",
    "            dW = A_prev.T.dot(grad_second) / y.shape[0]\n",
    "            db = np.sum(grad_second, axis=0, keepdims=True) / y.shape[0]\n",
    "\n",
    "            grad_w[i] = dW.astype(np.float32)\n",
    "            grad_b[i] = db.astype(np.float32)\n",
    "\n",
    "            grad_first = grad_second.dot(self.w[i].T)\n",
    "\n",
    "        return grad_w, grad_b\n",
    "\n",
    "    def fit(self, X: np.ndarray, y: np.ndarray, verbose: bool = True, epoch_to_print = 10):\n",
    "        X = np.array(X, dtype=np.float32)\n",
    "        y = np.array(y, dtype=np.float32)\n",
    "        \n",
    "        if y.ndim == 1:\n",
    "            y = y.reshape(-1, 1)\n",
    "\n",
    "        self.init_params(X.shape[1], 1)\n",
    "\n",
    "        for epoch in range(self.n_iter):\n",
    "            pred, activations = self.forward(X)\n",
    "            dW_list, db_list = self.backward(X, y, activations)\n",
    "\n",
    "            for i in range(len(self.w)):\n",
    "                self.w[i] -= self.learning_rate * dW_list[i]\n",
    "                self.b[i] -= self.learning_rate * db_list[i]\n",
    "\n",
    "            if verbose and (epoch % epoch_to_print == 0):\n",
    "                loss = float(np.mean((pred - y)**2))\n",
    "                print(f\"Epoch {epoch}, Loss: {loss}\")\n",
    "\n",
    "        return self\n",
    "\n",
    "    def predict(self, X: np.ndarray) -> np.ndarray:\n",
    "        X = np.array(X, dtype=np.float32)\n",
    "        pred, _ = self.forward(X)\n",
    "        return pred"
   ]
  },
  {
   "cell_type": "code",
   "execution_count": 17,
   "id": "b3d65ddd",
   "metadata": {
    "execution": {
     "iopub.execute_input": "2025-09-13T08:39:05.399897Z",
     "iopub.status.busy": "2025-09-13T08:39:05.399554Z",
     "iopub.status.idle": "2025-09-13T08:40:46.607196Z",
     "shell.execute_reply": "2025-09-13T08:40:46.606204Z"
    },
    "papermill": {
     "duration": 101.217344,
     "end_time": "2025-09-13T08:40:46.609052",
     "exception": false,
     "start_time": "2025-09-13T08:39:05.391708",
     "status": "completed"
    },
    "tags": []
   },
   "outputs": [
    {
     "name": "stdout",
     "output_type": "stream",
     "text": [
      "Epoch 0, Loss: 31395840.0\n",
      "Epoch 10, Loss: 20216036.0\n",
      "Epoch 20, Loss: 16815606.0\n",
      "Epoch 30, Loss: 16015365.0\n",
      "Epoch 40, Loss: 15626965.0\n",
      "Epoch 50, Loss: 14915671.0\n",
      "Epoch 60, Loss: 13984997.0\n",
      "Epoch 70, Loss: 12971801.0\n",
      "Epoch 80, Loss: 11843628.0\n",
      "Epoch 90, Loss: 15256431.0\n",
      "Epoch 100, Loss: 10504215.0\n",
      "Epoch 110, Loss: 9621625.0\n",
      "Epoch 120, Loss: 13222449.0\n",
      "Epoch 130, Loss: 14975644.0\n",
      "Epoch 140, Loss: 9693872.0\n",
      "Epoch 150, Loss: 8579481.0\n",
      "Epoch 160, Loss: 8014055.0\n",
      "Epoch 170, Loss: 7576987.0\n",
      "Epoch 180, Loss: 6918581.5\n",
      "Epoch 190, Loss: 6572994.0\n",
      "Epoch 200, Loss: 6465199.5\n",
      "Epoch 210, Loss: 5637812.5\n",
      "Epoch 220, Loss: 5655033.5\n",
      "Epoch 230, Loss: 5255513.5\n",
      "Epoch 240, Loss: 4770456.5\n",
      "Epoch 250, Loss: 4765759.0\n",
      "Epoch 260, Loss: 4232889.0\n",
      "Epoch 270, Loss: 4030628.5\n",
      "Epoch 280, Loss: 3826012.5\n",
      "Epoch 290, Loss: 3704544.75\n",
      "Epoch 300, Loss: 3617744.5\n",
      "Epoch 310, Loss: 3306545.5\n",
      "Epoch 320, Loss: 3151931.5\n",
      "Epoch 330, Loss: 3194216.75\n",
      "Epoch 340, Loss: 3116365.5\n",
      "Epoch 350, Loss: 2747490.75\n",
      "Epoch 360, Loss: 2621769.25\n",
      "Epoch 370, Loss: 2569718.25\n",
      "Epoch 380, Loss: 2489909.0\n",
      "Epoch 390, Loss: 2354452.0\n",
      "Epoch 400, Loss: 2224087.5\n",
      "Epoch 410, Loss: 2332490.5\n",
      "Epoch 420, Loss: 2144639.5\n",
      "Epoch 430, Loss: 2030756.0\n",
      "Epoch 440, Loss: 1986958.5\n",
      "Epoch 450, Loss: 1973017.125\n",
      "Epoch 460, Loss: 1856459.375\n",
      "Epoch 470, Loss: 1846718.5\n",
      "Epoch 480, Loss: 1849289.25\n",
      "Epoch 490, Loss: 1750048.625\n",
      "Epoch 500, Loss: 1694568.75\n",
      "Epoch 510, Loss: 1752904.5\n",
      "Epoch 520, Loss: 1645280.75\n",
      "Epoch 530, Loss: 1555578.625\n",
      "Epoch 540, Loss: 1507771.25\n",
      "Epoch 550, Loss: 1490588.125\n",
      "Epoch 560, Loss: 1486548.75\n",
      "Epoch 570, Loss: 1433615.625\n",
      "Epoch 580, Loss: 1422377.875\n",
      "Epoch 590, Loss: 1372924.125\n",
      "Epoch 600, Loss: 1345383.125\n",
      "Epoch 610, Loss: 1301382.875\n",
      "Epoch 620, Loss: 1272907.25\n",
      "Epoch 630, Loss: 1247319.5\n",
      "Epoch 640, Loss: 1223695.5\n",
      "Epoch 650, Loss: 1200260.5\n",
      "Epoch 660, Loss: 1176891.625\n",
      "Epoch 670, Loss: 1153592.5\n",
      "Epoch 680, Loss: 1130781.125\n",
      "Epoch 690, Loss: 1109183.125\n",
      "Epoch 700, Loss: 1089340.5\n",
      "Epoch 710, Loss: 1071378.0\n",
      "Epoch 720, Loss: 1055113.5\n",
      "Epoch 730, Loss: 1040254.125\n",
      "Epoch 740, Loss: 1026484.875\n",
      "Epoch 750, Loss: 1013503.125\n",
      "Epoch 760, Loss: 1001074.625\n",
      "Epoch 770, Loss: 989082.125\n",
      "Epoch 780, Loss: 977490.8125\n",
      "Epoch 790, Loss: 966296.6875\n",
      "Epoch 800, Loss: 955521.5\n",
      "Epoch 810, Loss: 945205.75\n",
      "Epoch 820, Loss: 935372.6875\n",
      "Epoch 830, Loss: 926008.4375\n",
      "Epoch 840, Loss: 917074.9375\n",
      "Epoch 850, Loss: 908527.375\n",
      "Epoch 860, Loss: 900324.9375\n",
      "Epoch 870, Loss: 892435.8125\n",
      "Epoch 880, Loss: 884833.4375\n",
      "Epoch 890, Loss: 877497.1875\n",
      "Epoch 900, Loss: 870406.5\n",
      "Epoch 910, Loss: 863543.3125\n",
      "Epoch 920, Loss: 856887.5\n",
      "Epoch 930, Loss: 850420.3125\n",
      "Epoch 940, Loss: 844125.0625\n",
      "Epoch 950, Loss: 837984.6875\n",
      "Epoch 960, Loss: 831984.1875\n",
      "Epoch 970, Loss: 826109.625\n",
      "Epoch 980, Loss: 820349.125\n",
      "Epoch 990, Loss: 814693.3125\n",
      "Epoch 1000, Loss: 809136.5625\n",
      "Epoch 1010, Loss: 803677.375\n",
      "Epoch 1020, Loss: 798317.4375\n",
      "Epoch 1030, Loss: 793061.75\n",
      "Epoch 1040, Loss: 787915.0625\n",
      "Epoch 1050, Loss: 782877.1875\n",
      "Epoch 1060, Loss: 777946.5625\n",
      "Epoch 1070, Loss: 773117.125\n",
      "Epoch 1080, Loss: 768382.5\n",
      "Epoch 1090, Loss: 763739.5625\n",
      "Epoch 1100, Loss: 759185.1875\n",
      "Epoch 1110, Loss: 754720.6875\n",
      "Epoch 1120, Loss: 750346.5625\n",
      "Epoch 1130, Loss: 746066.8125\n",
      "Epoch 1140, Loss: 741885.4375\n",
      "Epoch 1150, Loss: 737806.875\n",
      "Epoch 1160, Loss: 733837.6875\n",
      "Epoch 1170, Loss: 729984.5625\n",
      "Epoch 1180, Loss: 726256.3125\n",
      "Epoch 1190, Loss: 722660.125\n",
      "Epoch 1200, Loss: 719201.4375\n",
      "Epoch 1210, Loss: 715880.1875\n",
      "Epoch 1220, Loss: 712694.5\n",
      "Epoch 1230, Loss: 709635.75\n",
      "Epoch 1240, Loss: 706693.1875\n",
      "Epoch 1250, Loss: 703852.875\n",
      "Epoch 1260, Loss: 701100.6875\n",
      "Epoch 1270, Loss: 698423.5625\n",
      "Epoch 1280, Loss: 695806.25\n",
      "Epoch 1290, Loss: 693235.0625\n",
      "Epoch 1300, Loss: 690700.1875\n",
      "Epoch 1310, Loss: 688199.6875\n",
      "Epoch 1320, Loss: 685742.1875\n",
      "Epoch 1330, Loss: 683340.125\n",
      "Epoch 1340, Loss: 681007.8125\n",
      "Epoch 1350, Loss: 678753.8125\n",
      "Epoch 1360, Loss: 676581.6875\n",
      "Epoch 1370, Loss: 674488.875\n",
      "Epoch 1380, Loss: 672469.0625\n",
      "Epoch 1390, Loss: 670514.9375\n",
      "Epoch 1400, Loss: 668618.8125\n",
      "Epoch 1410, Loss: 666775.375\n",
      "Epoch 1420, Loss: 664980.0625\n",
      "Epoch 1430, Loss: 663230.25\n",
      "Epoch 1440, Loss: 661522.625\n",
      "Epoch 1450, Loss: 659852.25\n",
      "Epoch 1460, Loss: 658213.75\n",
      "Epoch 1470, Loss: 656599.5\n",
      "Epoch 1480, Loss: 655000.8125\n",
      "Epoch 1490, Loss: 653407.6875\n",
      "Epoch 1500, Loss: 651805.625\n",
      "Epoch 1510, Loss: 650168.0\n",
      "Epoch 1520, Loss: 648433.1875\n",
      "Epoch 1530, Loss: 646804.4375\n",
      "Epoch 1540, Loss: 650428.4375\n",
      "Epoch 1550, Loss: 658590.125\n",
      "Epoch 1560, Loss: 662109.5625\n",
      "Epoch 1570, Loss: 661634.5\n",
      "Epoch 1580, Loss: 659507.6875\n",
      "Epoch 1590, Loss: 656255.75\n",
      "Epoch 1600, Loss: 652856.25\n",
      "Epoch 1610, Loss: 649916.8125\n",
      "Epoch 1620, Loss: 647488.6875\n",
      "Epoch 1630, Loss: 645380.3125\n",
      "Epoch 1640, Loss: 643375.125\n",
      "Epoch 1650, Loss: 641311.5625\n",
      "Epoch 1660, Loss: 639094.0625\n",
      "Epoch 1670, Loss: 636685.0\n",
      "Epoch 1680, Loss: 634089.5\n",
      "Epoch 1690, Loss: 631343.3125\n",
      "Epoch 1700, Loss: 628499.3125\n",
      "Epoch 1710, Loss: 625612.0625\n",
      "Epoch 1720, Loss: 622734.6875\n",
      "Epoch 1730, Loss: 619909.6875\n",
      "Epoch 1740, Loss: 617170.5625\n",
      "Epoch 1750, Loss: 614540.5\n",
      "Epoch 1760, Loss: 612035.125\n",
      "Epoch 1770, Loss: 609662.3125\n",
      "Epoch 1780, Loss: 607423.8125\n",
      "Epoch 1790, Loss: 605317.875\n",
      "Epoch 1800, Loss: 603339.1875\n",
      "Epoch 1810, Loss: 601482.5\n",
      "Epoch 1820, Loss: 599740.625\n",
      "Epoch 1830, Loss: 598106.5625\n",
      "Epoch 1840, Loss: 596574.625\n",
      "Epoch 1850, Loss: 595139.0\n",
      "Epoch 1860, Loss: 593794.1875\n",
      "Epoch 1870, Loss: 592536.125\n",
      "Epoch 1880, Loss: 591360.5\n",
      "Epoch 1890, Loss: 590262.8125\n",
      "Epoch 1900, Loss: 589237.875\n",
      "Epoch 1910, Loss: 588279.1875\n",
      "Epoch 1920, Loss: 587378.9375\n",
      "Epoch 1930, Loss: 586526.875\n",
      "Epoch 1940, Loss: 585711.0\n",
      "Epoch 1950, Loss: 584918.625\n",
      "Epoch 1960, Loss: 584137.0\n",
      "Epoch 1970, Loss: 583354.875\n",
      "Epoch 1980, Loss: 582563.4375\n",
      "Epoch 1990, Loss: 581756.6875\n"
     ]
    }
   ],
   "source": [
    "model = MLPRegressor(n_iter = 2000, learning_rate = 10)\n",
    "model.fit(X_train, y_train)\n",
    "y_pred = model.predict(X_test)\n",
    "\n"
   ]
  },
  {
   "cell_type": "code",
   "execution_count": 18,
   "id": "fdd619a1",
   "metadata": {
    "execution": {
     "iopub.execute_input": "2025-09-13T08:40:46.645328Z",
     "iopub.status.busy": "2025-09-13T08:40:46.644973Z",
     "iopub.status.idle": "2025-09-13T08:40:46.654303Z",
     "shell.execute_reply": "2025-09-13T08:40:46.653208Z"
    },
    "papermill": {
     "duration": 0.029335,
     "end_time": "2025-09-13T08:40:46.656505",
     "exception": false,
     "start_time": "2025-09-13T08:40:46.627170",
     "status": "completed"
    },
    "tags": []
   },
   "outputs": [
    {
     "data": {
      "text/plain": [
       "0.9627367044802568"
      ]
     },
     "execution_count": 18,
     "metadata": {},
     "output_type": "execute_result"
    }
   ],
   "source": [
    "score = r2_score(y_pred, y_test)\n",
    "score"
   ]
  }
 ],
 "metadata": {
  "colab": {
   "provenance": []
  },
  "kaggle": {
   "accelerator": "none",
   "dataSources": [
    {
     "datasetId": 8243001,
     "sourceId": 13019322,
     "sourceType": "datasetVersion"
    }
   ],
   "dockerImageVersionId": 31089,
   "isGpuEnabled": false,
   "isInternetEnabled": true,
   "language": "python",
   "sourceType": "notebook"
  },
  "kernelspec": {
   "display_name": "Python 3",
   "language": "python",
   "name": "python3"
  },
  "language_info": {
   "codemirror_mode": {
    "name": "ipython",
    "version": 3
   },
   "file_extension": ".py",
   "mimetype": "text/x-python",
   "name": "python",
   "nbconvert_exporter": "python",
   "pygments_lexer": "ipython3",
   "version": "3.11.13"
  },
  "papermill": {
   "default_parameters": {},
   "duration": 116.275447,
   "end_time": "2025-09-13T08:40:47.396220",
   "environment_variables": {},
   "exception": null,
   "input_path": "__notebook__.ipynb",
   "output_path": "__notebook__.ipynb",
   "parameters": {},
   "start_time": "2025-09-13T08:38:51.120773",
   "version": "2.6.0"
  }
 },
 "nbformat": 4,
 "nbformat_minor": 5
}
